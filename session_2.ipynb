{
  "cells": [
    {
      "cell_type": "code",
      "execution_count": null,
      "metadata": {
        "id": "X05CUzUHW6Ke"
      },
      "outputs": [],
      "source": [
        "import os\n",
        "os.makedirs(\"data\", exist_ok=True)\n",
        "!wget \"https://raw.githubusercontent.com/FNTwin/summerschool_lab2/main/data/6vhn.pdb\" -O \"data/6vhn.pdb\"\n",
        "!wget \"https://raw.githubusercontent.com/FNTwin/summerschool_lab2/main/data/6vhn_prepared.pdb\" -O \"data/6vhn_prepared.pdb\"\n",
        "!wget \"https://raw.githubusercontent.com/FNTwin/summerschool_lab2/main/data/Enamine_Hinge_Binders_Library_plated_24000cmds_20210316%20(1).sdf\" -O \"data/Enamine_Hinge_Binders_Library_plated_24000cmds_20210316%20(1).sdf\"\n",
        "!wget \"https://raw.githubusercontent.com/FNTwin/summerschool_lab2/main/__init__.py\" \"__init__.py\"\n",
        "!wget \"https://raw.githubusercontent.com/FNTwin/summerschool_lab2/main/workshop_2_utils.py\" \"workshop_2_utils.py\"\n",
        "!wget \"https://raw.githubusercontent.com/FNTwin/summerschool_lab2/main/env.yml\" \"env.yml\""
      ]
    },
    {
      "cell_type": "code",
      "execution_count": null,
      "metadata": {
        "id": "2DB4N4IqNBRi"
      },
      "outputs": [],
      "source": [
        "!pip install -q condacolab\n",
        "import condacolab\n",
        "condacolab.install()"
      ]
    },
    {
      "cell_type": "code",
      "execution_count": null,
      "metadata": {
        "id": "YYfwj4QRNXPB"
      },
      "outputs": [],
      "source": [
        "import condacolab\n",
        "condacolab.check()"
      ]
    },
    {
      "cell_type": "code",
      "execution_count": null,
      "metadata": {
        "id": "c1kHGWgSNXsA"
      },
      "outputs": [],
      "source": [
        "!mamba env update -n base -f env.yml"
      ]
    },
    {
      "cell_type": "code",
      "execution_count": null,
      "metadata": {
        "id": "ztSZInESTifH"
      },
      "outputs": [],
      "source": [
        "!pip install py3Dmol"
      ]
    },
    {
      "cell_type": "code",
      "execution_count": null,
      "metadata": {
        "id": "lPYCBVHBPD86"
      },
      "outputs": [],
      "source": [
        "from google.colab import output\n",
        "output.enable_custom_widget_manager()\n"
      ]
    },
    {
      "cell_type": "code",
      "execution_count": null,
      "metadata": {
        "id": "3Hp4WYMiMuU3"
      },
      "outputs": [],
      "source": [
        "import nglview as ng\n",
        "import mdtraj\n",
        "import numpy as np\n",
        "import os\n",
        "from workshop_2_utils import *\n",
        "\n",
        "\n",
        "os.makedirs(\"sdf_inputs\", exist_ok=True)\n",
        "os.makedirs(\"smina_inputs\", exist_ok=True)\n",
        "\n"
      ]
    },
    {
      "cell_type": "code",
      "execution_count": null,
      "metadata": {
        "id": "SXG88_fUMuU4"
      },
      "outputs": [],
      "source": [
        "traj = mdtraj.load(\"data/6vhn.pdb\")\n",
        "\n",
        "def get_protein_ligand_idxs(traj ,resname=None):\n",
        "    protein = traj.top.select(\"protein\")\n",
        "    resname = \"not protein\" if not resname else resname\n",
        "    ligand = traj.top.select(resname)\n",
        "    return protein, ligand\n",
        "\n",
        "def save_trimmed_pdb(path, traj, idxs):\n",
        "    traj.atom_slice(idxs).save_pdb(path)\n",
        "\n",
        "\n",
        "receptor, ligand = get_protein_ligand_idxs(traj, \"not protein and not water\")\n",
        "\n",
        "save_trimmed_pdb(\"data/ligand.pdb\", traj,ligand)\n",
        "#save_trimmed_pdb(\"data/receptor.pdb\", traj,receptor)\n",
        "\n"
      ]
    },
    {
      "cell_type": "code",
      "execution_count": null,
      "metadata": {
        "id": "V38Re8v3StU-"
      },
      "outputs": [],
      "source": [
        "import py3Dmol\n",
        "#First we assign the py3Dmol.view as view\n",
        "view=py3Dmol.view()\n",
        "#The following lines are used to add the addModel class\n",
        "#to read the PDB files of chain B and C\n",
        "view.addModel(open('data/6vhn_prepared.pdb', 'r').read(),'pdb')\n",
        "view.addModel(open('data/6vhn.pdb', 'r').read(),'pdb')\n",
        "#Zooming into all visualized structures\n",
        "view.zoomTo()\n",
        "#Here we set the background color as white\n",
        "view.setBackgroundColor('white')\n",
        "view.setStyle({'model': -1}, {\"cartoon\": {'color': 'spectrum'}})\n",
        "#And we finally visualize the structures using the command below\n",
        "view.show()"
      ]
    },
    {
      "cell_type": "code",
      "execution_count": null,
      "metadata": {
        "id": "gs35lalNMuU4"
      },
      "outputs": [],
      "source": [
        "def read_pdb_with_ob(file):\n",
        "    \"\"\"Read a molecule file with open babel\n",
        "\n",
        "    Args:\n",
        "        infile (Union[str os.PathLike]): input file\n",
        "\n",
        "    Returns:\n",
        "        mols (list): list of molecules found in the input file\n",
        "    \"\"\"\n",
        "\n",
        "    try:\n",
        "        from openbabel import pybel\n",
        "    except ImportError:\n",
        "        raise ImportError(\"Pybel is required for reading openbabel molecules\")\n",
        "    mols = [m for m in pybel.readfile(format=\"pdb\",filename=file)]\n",
        "    return mols\n",
        "\n",
        "def prepare_ob_mols(ligand, outpath, overwrite=False):\n",
        "    from openbabel import pybel\n",
        "    out = pybel.Outputfile(format=\"pdbqt\" , filename=outpath,  overwrite=overwrite)\n",
        "    ligand.addh()\n",
        "    if not ligand.OBMol.HasNonZeroCoords():\n",
        "        ligand.make3D()\n",
        "    ligand.calccharges(model=\"gasteiger\")\n",
        "    out.write(ligand)\n",
        "    out.close()\n",
        "\n",
        "ligand_mol= read_pdb_with_ob(\"data/ligand.pdb\")\n"
      ]
    },
    {
      "cell_type": "code",
      "execution_count": null,
      "metadata": {
        "id": "dj8XV53oMuU5"
      },
      "outputs": [],
      "source": [
        "ligand_mol[0]"
      ]
    },
    {
      "cell_type": "code",
      "execution_count": null,
      "metadata": {
        "id": "8kgxyVtRMuU5"
      },
      "outputs": [],
      "source": [
        "prepare_ob_mols(ligand_mol[0], \"smina_inputs/ligand.pdbqt\", overwrite=True)"
      ]
    },
    {
      "cell_type": "code",
      "execution_count": null,
      "metadata": {
        "id": "IWaKMEAzMuU5"
      },
      "outputs": [],
      "source": [
        "prep=Preprocessor()\n",
        "prep.prepare_receptor(\"data/6vhn_prepared.pdb\", \"smina_inputs/receptor.pdbqt\")\n",
        "#prep.prepare_ligand(\"data/ligand.pdb\", \"smina_inputs/ligand.pdbqt\", in_format=\"pdb\")"
      ]
    },
    {
      "cell_type": "code",
      "execution_count": null,
      "metadata": {
        "id": "DbWWVlFqMuU5"
      },
      "outputs": [],
      "source": [
        "# Binding box creations"
      ]
    },
    {
      "cell_type": "code",
      "execution_count": null,
      "metadata": {
        "id": "mozRc5DFMuU5"
      },
      "outputs": [],
      "source": [
        "ligand=mdtraj.load(\"data/ligand.pdb\")\n",
        "def create_box_from_ligand(ligand):\n",
        "    xyz=ligand.xyz[0]*10 # convert to Angstrom from nm\n",
        "    pocket_center = (xyz.max(axis=0) + xyz.min(axis=0)) / 2\n",
        "    pocket_size = xyz.max(axis=0) - xyz.min(axis=0) + 5\n",
        "    return Box.from_array(pocket_center, pocket_size)\n",
        "\n",
        "box=create_box_from_ligand(ligand)\n",
        "box"
      ]
    },
    {
      "cell_type": "code",
      "execution_count": null,
      "metadata": {
        "id": "a7V00C0_MuU6"
      },
      "outputs": [],
      "source": [
        "from workshop_2_utils import Docking\n",
        "\n",
        "docker=Docking(\"smina_inputs/receptor.pdbqt\", box)\n"
      ]
    },
    {
      "cell_type": "code",
      "execution_count": null,
      "metadata": {
        "id": "h4NiJoLGMuU6"
      },
      "outputs": [],
      "source": [
        "os.makedirs(\"outputs\", exist_ok=True)\n",
        "text=docker.dock_one(\"smina_inputs/ligand.pdbqt\", \"outputs/ligand_out.sdf\")\n",
        "docker.parse_output(text)"
      ]
    },
    {
      "cell_type": "code",
      "execution_count": null,
      "metadata": {
        "id": "F0-LSU2DU3O7"
      },
      "outputs": [],
      "source": [
        "view = py3Dmol.view()\n",
        "view.addModel(open('data/6vhn_prepared.pdb', 'r').read())\n",
        "view.setStyle({'model': -1}, {\"cartoon\": {'color': 'spectrum'}})\n",
        "view.addModel(open('outputs/ligand_out.sdf', 'r').read())\n",
        "view.setStyle({'model': -1}, {\"stick\" :  {'color': \"yellow\"}})\n",
        "view.zoomTo()\n",
        "view.show()"
      ]
    },
    {
      "cell_type": "code",
      "execution_count": null,
      "metadata": {
        "id": "gUJGYjarMuU6"
      },
      "outputs": [],
      "source": [
        "poses=dm.read_sdf(\"outputs/ligand_out.sdf\", as_df=True, mol_column=\"mols\", n_jobs=-1)\n",
        "poses"
      ]
    },
    {
      "cell_type": "code",
      "execution_count": null,
      "metadata": {
        "id": "GdS2hg4iMuU6"
      },
      "outputs": [],
      "source": [
        "dm.viz.to_image(poses[\"mols\"])"
      ]
    },
    {
      "cell_type": "code",
      "execution_count": null,
      "metadata": {
        "id": "qm_gcaP4MuU6"
      },
      "outputs": [],
      "source": [
        "# Now for some real molecules"
      ]
    },
    {
      "cell_type": "code",
      "execution_count": null,
      "metadata": {
        "id": "2dA4w_gfMuU6"
      },
      "outputs": [],
      "source": [
        "import datamol as dm\n",
        "df_mols = dm.read_sdf(\"data/Enamine_Hinge_Binders_Library_plated_24000cmds_20210316%20(1).sdf\", as_df=True, mol_column=\"mols\", n_jobs=-1)\n",
        "docker.parse_mol_to_pbdqt(df_mols[\"mols\"][0])\n",
        "\n"
      ]
    },
    {
      "cell_type": "code",
      "execution_count": null,
      "metadata": {
        "id": "QhcTk_quMuU6"
      },
      "outputs": [],
      "source": [
        "text=docker.dock_one(\"smina_inputs/mol_0.pdbqt\", \"outputs/poses_0.sdf\")\n",
        "docker.parse_output(text)\n",
        "poses=dm.read_sdf(\"outputs/poses_0.sdf\", as_df=True, mol_column=\"mols\", n_jobs=-1)\n",
        "poses"
      ]
    },
    {
      "cell_type": "code",
      "execution_count": null,
      "metadata": {
        "id": "ugidGC-FMuU6"
      },
      "outputs": [],
      "source": [
        "dm.viz.to_image(poses[\"mols\"])"
      ]
    },
    {
      "cell_type": "code",
      "execution_count": null,
      "metadata": {
        "id": "YVlFD6uyMuU6"
      },
      "outputs": [],
      "source": [
        "df_mols.head()"
      ]
    },
    {
      "cell_type": "code",
      "execution_count": null,
      "metadata": {
        "id": "kBl5b642bW4S"
      },
      "outputs": [],
      "source": [
        "df_mols[\"fp\"]=df_mols[\"mols\"].apply(lambda x : dm.to_fp(x))\n",
        "df_mols"
      ]
    },
    {
      "cell_type": "code",
      "execution_count": null,
      "metadata": {
        "id": "XWxY9aM2MuU6"
      },
      "outputs": [],
      "source": [
        "docker=Docking(\"smina_inputs/receptor.pdbqt\", box)"
      ]
    },
    {
      "cell_type": "code",
      "execution_count": null,
      "metadata": {
        "id": "ASb8dxeYMuU6"
      },
      "outputs": [],
      "source": [
        "docker.dock_multiple_mols(\n",
        "        df_mols[\"mols\"].tolist()[:5], list(range(5))\n",
        ")\n"
      ]
    },
    {
      "cell_type": "code",
      "execution_count": null,
      "metadata": {
        "id": "eV9WX3AVMuU6"
      },
      "outputs": [],
      "source": [
        "poses= dm.read_sdf(\"smina_outputs/poses.sdf\", as_df=True, mol_column=\"mols\", n_jobs=-1)\n",
        "poses.sort_values(\"minimizedAffinity\",inplace=True)\n",
        "poses"
      ]
    },
    {
      "cell_type": "code",
      "execution_count": null,
      "metadata": {
        "id": "43DVaiO8MuU7"
      },
      "outputs": [],
      "source": [
        "dm.viz.to_image(poses[\"mols\"].tolist()[:10])"
      ]
    },
    {
      "cell_type": "code",
      "execution_count": null,
      "metadata": {
        "id": "qrdu80kYWr90"
      },
      "outputs": [],
      "source": [
        "\n",
        "def create_py3d_model(sdf_file):\n",
        "  molecules=dm.read_sdf(sdf_file, remove_hs=False)\n",
        "  view = py3Dmol.view()\n",
        "  view.addModel(open('data/6vhn_prepared.pdb', 'r').read())\n",
        "  view.setStyle({'model': -1}, {\"cartoon\": {'color': 'spectrum'}})\n",
        "  for mol in molecules:\n",
        "    view.addModel(Chem.MolToMolBlock(mol,confId=0), \"sdf\")\n",
        "    view.setStyle({'model': -1}, {\"stick\" :  {}})\n",
        "  view.zoomTo()\n",
        "  return view\n",
        "\n",
        "view=create_py3d_model(\"smina_outputs/poses.sdf\")\n",
        "view.show()\n",
        "\n"
      ]
    },
    {
      "cell_type": "code",
      "execution_count": null,
      "metadata": {
        "id": "9r4ZhXK3MuU7"
      },
      "outputs": [],
      "source": [
        "def get_random_idxs(df, n=10, seed=42):\n",
        "    np.random.seed(seed)\n",
        "    return np.random.randint(0, len(df), n)\n",
        "\n",
        "\n",
        "df = init_df_fields(df_mols)\n",
        "df.head()"
      ]
    },
    {
      "cell_type": "code",
      "execution_count": null,
      "metadata": {
        "id": "1JhrCOhRMuU7"
      },
      "outputs": [],
      "source": [
        "def train_gp(df) -> GaussianProcessRegressor:\n",
        "    from sklearn.gaussian_process.kernels import RBF\n",
        "    X = np.vstack(df[\"fp\"][df[\"sampled\"]>=1].tolist())\n",
        "    Y = np.vstack(df[\"true_affinity\"][df[\"sampled\"]>=1].tolist())\n",
        "    return GaussianProcessRegressor(kernel=RBF(length_scale=2.0,\n",
        "                                               length_scale_bounds=(1e-1, 20.0)),\n",
        "                                     random_state=0).fit(X,Y)\n",
        "\n",
        "def predict_with_gp(df, gp):\n",
        "    X = np.vstack(df[\"fp\"].tolist())\n",
        "    Y = np.vstack(df[\"true_affinity\"].tolist())\n",
        "    mean, std = gp.predict(X, return_std=True)\n",
        "    df[\"pred_affinity\"] = mean\n",
        "    df[\"uncertainty\"] = std\n",
        "    return df\n",
        "\n",
        "def samples_next(df, n: int = 10, sort_by_uncertainty = True) -> List[int]:\n",
        "    original_df = df\n",
        "    if sort_by_uncertainty:\n",
        "        ascending=False\n",
        "        name=\"uncertainty\"\n",
        "    else:\n",
        "        ascending=True\n",
        "        name=\"pred_affinity\"\n",
        "    return df.sort_values(name, ascending=ascending)[\"idxs\"].tolist()[:n]\n",
        "\n",
        "\n",
        "\n",
        "#gp=train_gp(df_mols_al)\n",
        "#df = predict_with_gp(df, gp)\n",
        "#df.head()\n"
      ]
    },
    {
      "cell_type": "code",
      "execution_count": null,
      "metadata": {
        "id": "BbpVhjFYfap6"
      },
      "outputs": [],
      "source": [
        "def get_results(output_dir, idxs):\n",
        "    values=[]\n",
        "    key=\"minimizedAffinity\"\n",
        "    for idx in idxs:\n",
        "        poses= dm.read_sdf(os.path.join(output_dir, f\"poses_{idx}.sdf\"), as_df=True, mol_column=\"mols\", n_jobs=-1, sanitize=False)\n",
        "        poses=poses.sort_values(\"minimizedAffinity\",inplace=False)\n",
        "        values.append(poses[\"minimizedAffinity\"][0])\n",
        "    return values\n",
        "\n",
        "def format_df(df, affinities, sampled_idxs, iteration):\n",
        "    df[\"true_affinity\"][sampled_idxs]=affinities\n",
        "    df[\"sampled\"][sampled_idxs]=iteration\n",
        "    return df\n"
      ]
    },
    {
      "cell_type": "code",
      "execution_count": null,
      "metadata": {
        "id": "XmPSvzh7MuU7"
      },
      "outputs": [],
      "source": [
        "from copy import deepcopy\n",
        "\n",
        "N_OF_AL_ITERATIONS = 5\n",
        "AL_ON_UNCERTAINTY = True\n",
        "FIRST_LOOP=True # get random idxs at the first loop\n",
        "N_OF_ORACLE_CALLS=3 # n of samples for initialization\n",
        "SEED = 42\n",
        "\n",
        "docker=Docking(\"smina_inputs/receptor.pdbqt\", box, num_poses=3)\n",
        "\n",
        "ultimate_df = deepcopy(df)\n",
        "for iteration in range(N_OF_AL_ITERATIONS):\n",
        "    if FIRST_LOOP:\n",
        "        FIRST_LOOP = not FIRST_LOOP\n",
        "        sampled_idxs= get_random_idxs(ultimate_df, n=N_OF_ORACLE_CALLS, seed=SEED).tolist()\n",
        "\n",
        "    # Create iteration directory\n",
        "    output_dir = f\"al_loop_{iteration}\"\n",
        "    os.makedirs(output_dir,exist_ok=True)\n",
        "\n",
        "    # Select molecules to dock and dock them\n",
        "    # really slow on colab\n",
        "    mols_to_dock=ultimate_df[\"mols\"].to_numpy()[sampled_idxs]\n",
        "    docker.dock_multiple_mols(mols_to_dock, sampled_idxs, output_dir)\n",
        "\n",
        "    # Get results\n",
        "    affinities = get_results(output_dir, sampled_idxs)\n",
        "    ultimate_df = format_df(ultimate_df, affinities, sampled_idxs, iteration + 1)\n",
        "\n",
        "    # AL call\n",
        "    GP = train_gp(ultimate_df)\n",
        "    ultimate_df = predict_with_gp(ultimate_df, GP)\n",
        "    sampled_idxs = samples_next(ultimate_df, N_OF_ORACLE_CALLS, AL_ON_UNCERTAINTY)\n",
        "\n",
        "\n"
      ]
    },
    {
      "cell_type": "code",
      "execution_count": null,
      "metadata": {
        "id": "ujczl-dUhC34"
      },
      "outputs": [],
      "source": []
    }
  ],
  "metadata": {
    "colab": {
      "private_outputs": true,
      "provenance": []
    },
    "kernelspec": {
      "display_name": "Python 3",
      "name": "python3"
    },
    "language_info": {
      "codemirror_mode": {
        "name": "ipython",
        "version": 3
      },
      "file_extension": ".py",
      "mimetype": "text/x-python",
      "name": "python",
      "nbconvert_exporter": "python",
      "pygments_lexer": "ipython3",
      "version": "3.12.3"
    }
  },
  "nbformat": 4,
  "nbformat_minor": 0
}
